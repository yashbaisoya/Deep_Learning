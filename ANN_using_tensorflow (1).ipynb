{
 "cells": [
  {
   "cell_type": "markdown",
   "metadata": {
    "id": "rivohdljP13F"
   },
   "source": [
    "**Simplest SLP**\n"
   ]
  },
  {
   "cell_type": "code",
   "execution_count": 2,
   "metadata": {
    "id": "l0b2biDs_9Tg"
   },
   "outputs": [
    {
     "name": "stdout",
     "output_type": "stream",
     "text": [
      "Enter a number between 0 and 1: 0.5\n",
      "\u001b[1m1/1\u001b[0m \u001b[32m━━━━━━━━━━━━━━━━━━━━\u001b[0m\u001b[37m\u001b[0m \u001b[1m0s\u001b[0m 44ms/step\n",
      "Perceptron classification: 0\n"
     ]
    }
   ],
   "source": [
    "import numpy as np\n",
    "import tensorflow as tf\n",
    "from tensorflow.keras.models import Sequential\n",
    "from tensorflow.keras.layers import Dense\n",
    "\n",
    "# Define the model\n",
    "model = Sequential([\n",
    "    Dense(1, input_shape=(1,), activation='sigmoid')  # Single neuron with sigmoid activation\n",
    "])\n",
    "\n",
    "# Compile the model\n",
    "model.compile(optimizer='sgd', loss='binary_crossentropy',\n",
    "              metrics=['accuracy'])\n",
    "\n",
    "np.random.seed(0)\n",
    "X = np.random.rand(100).reshape(-1, 1)  # Shape for input layer\n",
    "y = np.array([1 if x >= 0.5 else 0 for x in X])  # Label: <0.5 => 0, >=0.5 => 1\n",
    "\n",
    "# Train the model without epoch output\n",
    "model.fit(X, y, epochs=10, verbose=0)\n",
    "\n",
    "# Function to get user input and classify it\n",
    "def user_input_classification():\n",
    "    user_input = float(input(\"Enter a number between 0 and 1: \"))  # Expecting valid float input\n",
    "    if 0 <= user_input <= 1:\n",
    "        prediction = model.predict(np.array([user_input]))  # Predict with the trained model\n",
    "        classification = 1 if prediction > 0.5 else 0\n",
    "        print(f\"Perceptron classification: {classification}\")\n",
    "    else:\n",
    "        print(\"Please enter a number between 0 and 1.\")\n",
    "\n",
    "# Classify user input\n",
    "user_input_classification()\n",
    "\n"
   ]
  },
  {
   "cell_type": "markdown",
   "metadata": {
    "id": "NMe-j_dsF9-i"
   },
   "source": [
    "**Code with two input neurons**"
   ]
  },
  {
   "cell_type": "code",
   "execution_count": 6,
   "metadata": {
    "colab": {
     "base_uri": "https://localhost:8080/"
    },
    "id": "O-ronDbPF-nh",
    "outputId": "8005a034-044a-4f94-802f-650cd3132074"
   },
   "outputs": [
    {
     "name": "stdout",
     "output_type": "stream",
     "text": [
      "Enter first number between 0 and 1: 0.5\n",
      "Enter second number between 0 and 1: 0.4\n",
      "\u001b[1m1/1\u001b[0m \u001b[32m━━━━━━━━━━━━━━━━━━━━\u001b[0m\u001b[37m\u001b[0m \u001b[1m0s\u001b[0m 31ms/step\n",
      "Perceptron classification: 0\n"
     ]
    }
   ],
   "source": [
    "import numpy as np\n",
    "import tensorflow as tf\n",
    "from tensorflow.keras.models import Sequential\n",
    "from tensorflow.keras.layers import Dense\n",
    "\n",
    "# Define the model with two input neurons\n",
    "model = Sequential([\n",
    "    Dense(1, input_shape=(2,), activation='sigmoid')\n",
    "])\n",
    "\n",
    "# Compile the model\n",
    "model.compile(optimizer='sgd', loss='binary_crossentropy', metrics=['accuracy'])\n",
    "\n",
    "# Generate random training data with two features\n",
    "np.random.seed(0)\n",
    "X = np.random.rand(100, 2)  # Each row now has two values\n",
    "y = np.array([1 if x[0] >= 0.5 and  x[1] >= 0.5 else 0 for x in X])  # Label based on sum of features\n",
    "\n",
    "# Train the model with more epochs for accuracy\n",
    "model.fit(X, y, epochs=500, verbose=0)  # Increased epochs\n",
    "\n",
    "# Function to get user input and classify it\n",
    "def user_input_classification():\n",
    "    # Collect two user inputs\n",
    "    user_input1 = float(input(\"Enter first number between 0 and 1: \"))\n",
    "    user_input2 = float(input(\"Enter second number between 0 and 1: \"))\n",
    "\n",
    "    # Clamp each input to the range [0, 1]\n",
    "    #user_input1 = max(0, min(user_input1, 1))\n",
    "    #user_input2 = max(0, min(user_input2, 1))\n",
    "\n",
    "    # Reshape inputs for prediction\n",
    "    user_inputs = np.array([[user_input1, user_input2]])\n",
    "\n",
    "    # Predict and classify\n",
    "    prediction = model.predict(user_inputs)\n",
    "    classification = int(prediction[0][0] >= 0.5)  # Threshold at 0.5\n",
    "    print(f\"Perceptron classification: {classification}\")\n",
    "\n",
    "# Classify user input\n",
    "user_input_classification()"
   ]
  },
  {
   "cell_type": "markdown",
   "metadata": {
    "id": "mCKa_JwUJiD3"
   },
   "source": [
    "**Code with additional hidden layer and two input neurons**"
   ]
  },
  {
   "cell_type": "code",
   "execution_count": null,
   "metadata": {
    "id": "ZmNOj6EEJi3V"
   },
   "outputs": [],
   "source": [
    "import numpy as np\n",
    "import tensorflow as tf\n",
    "from tensorflow.keras.models import Sequential\n",
    "from tensorflow.keras.layers import Dense\n",
    "\n",
    "# Define the model with a hidden layer of two neurons and an output layer\n",
    "model = Sequential([\n",
    "    Dense(2, input_shape=(2,), activation='sigmoid'),   # Hidden layer with 2 neurons and ReLU activation\n",
    "    Dense(1, activation='sigmoid')                   # Output layer with 1 neuron and sigmoid activation\n",
    "])\n",
    "\n",
    "# Compile the model\n",
    "model.compile(optimizer='sgd', loss='binary_crossentropy', metrics=['accuracy'])\n",
    "\n",
    "# Generate random training data with two features\n",
    "np.random.seed(0)\n",
    "X = np.random.rand(100, 2)  # Each row now has two values\n",
    "y = np.array([1 if x[0] + x[1] >= 1 else 0 for x in X])  # Label based on sum of features\n",
    "\n",
    "# Train the model with more epochs for accuracy\n",
    "model.fit(X, y, epochs=500, verbose=0)  # Increased epochs\n",
    "\n",
    "# Function to get user input and classify it\n",
    "def user_input_classification():\n",
    "    # Collect two user inputs\n",
    "    user_input1 = float(input(\"Enter first number between 0 and 1: \"))\n",
    "    user_input2 = float(input(\"Enter second number between 0 and 1: \"))\n",
    "\n",
    "    # Clamp each input to the range [0, 1]\n",
    "    user_input1 = max(0, min(user_input1, 1))\n",
    "    user_input2 = max(0, min(user_input2, 1))\n",
    "\n",
    "    # Reshape inputs for prediction\n",
    "    user_inputs = np.array([[user_input1, user_input2]])\n",
    "\n",
    "    # Predict and classify\n",
    "    prediction = model.predict(user_inputs)\n",
    "    classification = int(prediction[0][0] >= 0.5)  # Threshold at 0.5\n",
    "    print(f\"Perceptron classification: {classification}\")\n",
    "\n",
    "# Classify user input\n",
    "user_input_classification()\n"
   ]
  },
  {
   "cell_type": "markdown",
   "metadata": {
    "id": "vYNv9TcZNdca"
   },
   "source": [
    "**Linear Regression**"
   ]
  },
  {
   "cell_type": "code",
   "execution_count": null,
   "metadata": {
    "colab": {
     "base_uri": "https://localhost:8080/"
    },
    "id": "2ggRAU9pM0Bm",
    "outputId": "0b7b5748-99ad-46a4-b881-75e227dc873c"
   },
   "outputs": [
    {
     "name": "stderr",
     "output_type": "stream",
     "text": [
      "/usr/local/lib/python3.10/dist-packages/keras/src/layers/core/dense.py:87: UserWarning: Do not pass an `input_shape`/`input_dim` argument to a layer. When using Sequential models, prefer using an `Input(shape)` object as the first layer in the model instead.\n",
      "  super().__init__(activity_regularizer=activity_regularizer, **kwargs)\n"
     ]
    },
    {
     "name": "stdout",
     "output_type": "stream",
     "text": [
      "Enter a value for prediction: 6\n",
      "\u001b[1m1/1\u001b[0m \u001b[32m━━━━━━━━━━━━━━━━━━━━\u001b[0m\u001b[37m\u001b[0m \u001b[1m0s\u001b[0m 33ms/step\n",
      "Predicted output for input 6.0: 13.009330749511719\n"
     ]
    }
   ],
   "source": [
    "# Import necessary libraries\n",
    "import numpy as np\n",
    "from tensorflow.keras.models import Sequential\n",
    "from tensorflow.keras.layers import Dense\n",
    "import tensorflow as tf\n",
    "\n",
    "# Sample data: X (input), Y (output) for training\n",
    "# Example: Let's assume we're predicting the output of a linear equation y = 2x + 1\n",
    "X = np.array([1, 2, 3, 4, 5], dtype=float)\n",
    "Y = np.array([3, 5, 7, 9, 11], dtype=float)\n",
    "\n",
    "# Build the ANN model\n",
    "model = Sequential([\n",
    "    Dense(units=1, input_shape=(1,), activation='linear')\n",
    "    ])\n",
    "\n",
    "# Compile the model with SGD optimizer\n",
    "model.compile(optimizer='sgd', loss='mean_squared_error')\n",
    "\n",
    "# Train the model without displaying the epochs\n",
    "model.fit(X, Y, epochs=1000, verbose=0)\n",
    "\n",
    "# Predict the output for a user input\n",
    "user_input = float(input(\"Enter a value for prediction: \"))\n",
    "prediction = model.predict(np.array([[user_input]]))\n",
    "\n",
    "# Display the prediction\n",
    "print(f\"Predicted output for input {user_input}: {prediction[0][0]}\")\n"
   ]
  },
  {
   "cell_type": "code",
   "execution_count": null,
   "metadata": {
    "id": "xbUK2DCLM_Uc"
   },
   "outputs": [],
   "source": []
  }
 ],
 "metadata": {
  "colab": {
   "provenance": []
  },
  "kernelspec": {
   "display_name": "Python 3 (ipykernel)",
   "language": "python",
   "name": "python3"
  },
  "language_info": {
   "codemirror_mode": {
    "name": "ipython",
    "version": 3
   },
   "file_extension": ".py",
   "mimetype": "text/x-python",
   "name": "python",
   "nbconvert_exporter": "python",
   "pygments_lexer": "ipython3",
   "version": "3.11.4"
  }
 },
 "nbformat": 4,
 "nbformat_minor": 1
}
